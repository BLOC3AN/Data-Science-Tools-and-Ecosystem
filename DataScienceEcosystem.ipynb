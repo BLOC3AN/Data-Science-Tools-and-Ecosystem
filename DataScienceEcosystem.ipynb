{
 "cells": [
  {
   "cell_type": "markdown",
   "id": "e679db7f-8461-44d9-8cd8-e419fb418c11",
   "metadata": {},
   "source": [
    "***Exercise 2 - Create a markdown cell with the title of the notebook.***"
   ]
  },
  {
   "cell_type": "markdown",
   "id": "e11ccabc-5aec-4de9-b258-276d9eb45665",
   "metadata": {},
   "source": [
    "<h1>Data Science And Ecosystem</h1>"
   ]
  },
  {
   "cell_type": "markdown",
   "id": "b83f7ad2-fd27-4675-9afe-113aba82a534",
   "metadata": {},
   "source": [
    "***Exercise 3 - Create a markdown cell for an introduction***"
   ]
  },
  {
   "cell_type": "markdown",
   "id": "11fc83db-b6a7-4ea4-98e1-f0586bf7603c",
   "metadata": {},
   "source": [
    "In this notebook, DataScience Tools and Ecosystem are summarized"
   ]
  },
  {
   "cell_type": "markdown",
   "id": "8714fb3a-b360-470c-8611-35f7d7aa0ab3",
   "metadata": {},
   "source": [
    "***Exercise 4 - Create a markdown cell to list data science languages***"
   ]
  },
  {
   "cell_type": "markdown",
   "id": "45ab79de-2921-439b-b5f9-b7a0237c00b2",
   "metadata": {},
   "source": [
    "Some of the popular languages that Data Scientists use are:\n",
    "1. Python\n",
    "2. R\n",
    "3. Scala\n",
    "4. SQL"
   ]
  },
  {
   "cell_type": "markdown",
   "id": "666b842b-954b-4250-9469-45f029f90158",
   "metadata": {},
   "source": [
    "***Exercise 5 - Create a markdown cell to list data science libraries***"
   ]
  },
  {
   "cell_type": "markdown",
   "id": "2e0af4c2-7e3e-42f6-8ca7-160a4806cea6",
   "metadata": {},
   "source": [
    "Some of the commonly used libraries used by Data Scientists include:\n",
    "- Pandas\n",
    "- Numpy\n",
    "- Matplotlib\n",
    "- Tensorflow"
   ]
  },
  {
   "cell_type": "markdown",
   "id": "e30416d8-07c6-4947-a48b-f819c311e25f",
   "metadata": {},
   "source": [
    "***Exercise 6 - Create a markdown cell with a table of Data Science tools***"
   ]
  },
  {
   "cell_type": "markdown",
   "id": "3136bd64-40fd-4c46-948c-d5baa90e2587",
   "metadata": {},
   "source": [
    "Data Science Tools|\n",
    "-------------------\n",
    "Anaconda|\n",
    "VsCode|\n",
    "Jupyter|\n"
   ]
  },
  {
   "cell_type": "markdown",
   "id": "d37116e2-def4-4c9a-9713-cac9ea1901d5",
   "metadata": {},
   "source": [
    "***Exercise 7 - Create a markdown cell introducing arithmetic expression examples***"
   ]
  },
  {
   "cell_type": "markdown",
   "id": "02d05a76-4ce3-4365-bd0c-c0b20283f138",
   "metadata": {},
   "source": [
    "<h3>Below are a few examples of evaluating arithmetic expressions in Python.</h3>"
   ]
  },
  {
   "cell_type": "markdown",
   "id": "337b5fb8-d6d6-4c65-9b38-7a352d68b3c0",
   "metadata": {},
   "source": [
    "***Exercise 8 - Create a code cell to multiply and add numbers***"
   ]
  },
  {
   "cell_type": "markdown",
   "id": "bca21f32-359e-49b5-8278-83480d829609",
   "metadata": {},
   "source": [
    "This a simple arithmetic expression to mutiply then add integers"
   ]
  },
  {
   "cell_type": "code",
   "execution_count": 3,
   "id": "609aa951-b458-45bd-bb48-13334f535e2a",
   "metadata": {},
   "outputs": [
    {
     "data": {
      "text/plain": [
       "17"
      ]
     },
     "execution_count": 3,
     "metadata": {},
     "output_type": "execute_result"
    }
   ],
   "source": [
    "(3*4)+5"
   ]
  },
  {
   "cell_type": "markdown",
   "id": "23916767-76a2-4ce4-86d8-8abce45e5686",
   "metadata": {},
   "source": [
    "***Exercise 9 - Create a code cell to convert minutes to hours***"
   ]
  },
  {
   "cell_type": "markdown",
   "id": "4548735b-994f-4fd1-b32e-232c72c632bf",
   "metadata": {},
   "source": [
    " This will convert 200 minutes to hours by diving by 60"
   ]
  },
  {
   "cell_type": "code",
   "execution_count": 4,
   "id": "089eee75-eef8-45f9-94cc-a2bdef032109",
   "metadata": {},
   "outputs": [
    {
     "data": {
      "text/plain": [
       "3.3333333333333335"
      ]
     },
     "execution_count": 4,
     "metadata": {},
     "output_type": "execute_result"
    }
   ],
   "source": [
    "200 / 60"
   ]
  },
  {
   "cell_type": "markdown",
   "id": "f7168751-6751-4d92-bb94-f3c7f0d251b2",
   "metadata": {},
   "source": [
    "***Exercise 10 - Insert a markdown cell to list Objectives***"
   ]
  },
  {
   "cell_type": "markdown",
   "id": "0cd60154-92af-4a7c-944b-16e08e981c1d",
   "metadata": {},
   "source": [
    "List popular languages for Data Science\n",
    "- python\n",
    "- R\n",
    "- SQL"
   ]
  },
  {
   "cell_type": "markdown",
   "id": "6c01d2e1-e4b1-445e-a327-1c3550670231",
   "metadata": {},
   "source": [
    "***Exercise 11 - Create a markdown cell to indicate the Author's name***"
   ]
  },
  {
   "cell_type": "markdown",
   "id": "58b5a47f-b906-4eca-b001-6dc651ae9ff7",
   "metadata": {},
   "source": [
    "<h2>Author</h2>\n",
    "Le Thanh Hai"
   ]
  }
 ],
 "metadata": {
  "kernelspec": {
   "display_name": "Python 3 (ipykernel)",
   "language": "python",
   "name": "python3"
  },
  "language_info": {
   "codemirror_mode": {
    "name": "ipython",
    "version": 3
   },
   "file_extension": ".py",
   "mimetype": "text/x-python",
   "name": "python",
   "nbconvert_exporter": "python",
   "pygments_lexer": "ipython3",
   "version": "3.10.12"
  }
 },
 "nbformat": 4,
 "nbformat_minor": 5
}
